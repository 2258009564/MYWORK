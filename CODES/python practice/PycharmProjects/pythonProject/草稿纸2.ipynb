{
 "cells": [
  {
   "cell_type": "code",
   "id": "initial_id",
   "metadata": {
    "collapsed": true,
    "ExecuteTime": {
     "end_time": "2024-08-08T17:57:01.383270Z",
     "start_time": "2024-08-08T17:57:01.372718Z"
    }
   },
   "source": [
    "import pandas as pd\n",
    "\n",
    "yuanma = [{'title': '惊魂记',\n",
    "           'score': '9.0',\n",
    "           'release': '1960-06-16'},\n",
    "          {'title': '电锯惊魂',\n",
    "           'score': '8.7',\n",
    "           'release': '2004-01-19'},\n",
    "          {'title': '卡里加里博士的小屋',\n",
    "           'score': '8.9',\n",
    "           'release': '1920-02-26'}]\n",
    "title_list = []\n",
    "score_list = []\n",
    "release_list = []\n",
    "\n",
    "for dic in yuanma:\n",
    "    title_list.append(dic['title'])\n",
    "    score_list.append(dic['score'])\n",
    "    release_list.append(dic['release'])\n",
    "df = pd.DataFrame({'title': title_list,\n",
    "                   'score': score_list,\n",
    "                   'release': release_list},\n",
    "                  index=range(1, 1 + len(yuanma)))\n",
    "df\n"
   ],
   "outputs": [
    {
     "data": {
      "text/plain": [
       "       title score     release\n",
       "1        惊魂记   9.0  1960-06-16\n",
       "2       电锯惊魂   8.7  2004-01-19\n",
       "3  卡里加里博士的小屋   8.9  1920-02-26"
      ],
      "text/html": [
       "<div>\n",
       "<style scoped>\n",
       "    .dataframe tbody tr th:only-of-type {\n",
       "        vertical-align: middle;\n",
       "    }\n",
       "\n",
       "    .dataframe tbody tr th {\n",
       "        vertical-align: top;\n",
       "    }\n",
       "\n",
       "    .dataframe thead th {\n",
       "        text-align: right;\n",
       "    }\n",
       "</style>\n",
       "<table border=\"1\" class=\"dataframe\">\n",
       "  <thead>\n",
       "    <tr style=\"text-align: right;\">\n",
       "      <th></th>\n",
       "      <th>title</th>\n",
       "      <th>score</th>\n",
       "      <th>release</th>\n",
       "    </tr>\n",
       "  </thead>\n",
       "  <tbody>\n",
       "    <tr>\n",
       "      <th>1</th>\n",
       "      <td>惊魂记</td>\n",
       "      <td>9.0</td>\n",
       "      <td>1960-06-16</td>\n",
       "    </tr>\n",
       "    <tr>\n",
       "      <th>2</th>\n",
       "      <td>电锯惊魂</td>\n",
       "      <td>8.7</td>\n",
       "      <td>2004-01-19</td>\n",
       "    </tr>\n",
       "    <tr>\n",
       "      <th>3</th>\n",
       "      <td>卡里加里博士的小屋</td>\n",
       "      <td>8.9</td>\n",
       "      <td>1920-02-26</td>\n",
       "    </tr>\n",
       "  </tbody>\n",
       "</table>\n",
       "</div>"
      ]
     },
     "execution_count": 2,
     "metadata": {},
     "output_type": "execute_result"
    }
   ],
   "execution_count": 2
  },
  {
   "metadata": {},
   "cell_type": "code",
   "outputs": [],
   "execution_count": null,
   "source": "",
   "id": "43331aa22872091a"
  }
 ],
 "metadata": {
  "kernelspec": {
   "display_name": "Python 3",
   "language": "python",
   "name": "python3"
  },
  "language_info": {
   "codemirror_mode": {
    "name": "ipython",
    "version": 2
   },
   "file_extension": ".py",
   "mimetype": "text/x-python",
   "name": "python",
   "nbconvert_exporter": "python",
   "pygments_lexer": "ipython2",
   "version": "2.7.6"
  }
 },
 "nbformat": 4,
 "nbformat_minor": 5
}
