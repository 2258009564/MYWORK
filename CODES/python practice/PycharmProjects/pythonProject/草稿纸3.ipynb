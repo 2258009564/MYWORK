{
 "cells": [
  {
   "cell_type": "code",
   "id": "211e81f836f5274e",
   "metadata": {
    "collapsed": true,
    "ExecuteTime": {
     "end_time": "2024-08-14T04:43:33.359834Z",
     "start_time": "2024-08-14T04:43:29.364774Z"
    }
   },
   "source": [
    "import requests\n",
    "from bs4 import BeautifulSoup"
   ],
   "outputs": [],
   "execution_count": 2
  },
  {
   "metadata": {
    "ExecuteTime": {
     "end_time": "2024-08-14T04:43:33.364619Z",
     "start_time": "2024-08-14T04:43:33.359834Z"
    }
   },
   "cell_type": "code",
   "source": [
    "# 目标网页URL\n",
    "url = 'https://life.djbx.com/col/col1186/index.html'\n",
    "\n",
    "# 请求头信息\n",
    "head = {\n",
    "    'User-Agent':\n",
    "        'Mozilla/5.0 (Windows NT 10.0; Win64; x64) AppleWebKit/537.36 (KHTML, like Gecko) Chrome/126.0.0.0 Safari/537.36 Edg/126.0.0.0'\n",
    "}"
   ],
   "id": "3ae948a12218b6df",
   "outputs": [],
   "execution_count": 3
  },
  {
   "metadata": {
    "ExecuteTime": {
     "end_time": "2024-08-14T04:43:33.505273Z",
     "start_time": "2024-08-14T04:43:33.364619Z"
    }
   },
   "cell_type": "code",
   "source": [
    "# 发送HTTP请求\n",
    "response = requests.get(url, headers=head)"
   ],
   "id": "5ab46aabeb479ae2",
   "outputs": [],
   "execution_count": 4
  },
  {
   "metadata": {
    "ExecuteTime": {
     "end_time": "2024-08-14T04:43:33.534757Z",
     "start_time": "2024-08-14T04:43:33.506596Z"
    }
   },
   "cell_type": "code",
   "source": [
    "# 解析HTML内容\n",
    "soup = BeautifulSoup(response.text, 'html.parser')"
   ],
   "id": "babb6e2bfc4b3e1a",
   "outputs": [],
   "execution_count": 5
  },
  {
   "metadata": {
    "ExecuteTime": {
     "end_time": "2024-08-14T04:43:33.550427Z",
     "start_time": "2024-08-14T04:43:33.534757Z"
    }
   },
   "cell_type": "code",
   "source": [
    "# 找到所有tr元素\n",
    "tr_tags = soup.find_all('tr')"
   ],
   "id": "2ef89464e225c6bd",
   "outputs": [],
   "execution_count": 6
  },
  {
   "metadata": {
    "ExecuteTime": {
     "end_time": "2024-08-14T04:43:33.564972Z",
     "start_time": "2024-08-14T04:43:33.550427Z"
    }
   },
   "cell_type": "code",
   "source": [
    "# 筛选出第二个tr元素\n",
    "second_tr = tr_tags[1] if len(tr_tags) > 1 else None"
   ],
   "id": "2fde1a3b72c2daf3",
   "outputs": [],
   "execution_count": 7
  },
  {
   "metadata": {
    "ExecuteTime": {
     "end_time": "2024-08-14T04:43:33.579923Z",
     "start_time": "2024-08-14T04:43:33.564972Z"
    }
   },
   "cell_type": "code",
   "source": [
    "# 使用string方法找到所有包含“终身寿险”的td\n",
    "product_td_tags = second_tr.find_all(string=lambda text: '终身寿险' in text)"
   ],
   "id": "8011b27995696efd",
   "outputs": [],
   "execution_count": 8
  },
  {
   "metadata": {
    "ExecuteTime": {
     "end_time": "2024-08-14T04:43:33.708935Z",
     "start_time": "2024-08-14T04:43:33.580923Z"
    }
   },
   "cell_type": "code",
   "source": [
    "# 遍历每个符合条件的td\n",
    "for product_td in product_td_tags:\n",
    "    # 找到第五个td\n",
    "    fifth_td = product_td.find_next_siblings('td')[5]\n",
    "print(fifth_td)"
   ],
   "id": "6c5a115b93b20c61",
   "outputs": [
    {
     "ename": "NameError",
     "evalue": "name 'fifth_td' is not defined",
     "output_type": "error",
     "traceback": [
      "\u001B[1;31m---------------------------------------------------------------------------\u001B[0m",
      "\u001B[1;31mNameError\u001B[0m                                 Traceback (most recent call last)",
      "Cell \u001B[1;32mIn[9], line 5\u001B[0m\n\u001B[0;32m      2\u001B[0m \u001B[38;5;28;01mfor\u001B[39;00m product_td \u001B[38;5;129;01min\u001B[39;00m product_td_tags:\n\u001B[0;32m      3\u001B[0m     \u001B[38;5;66;03m# 找到第五个td\u001B[39;00m\n\u001B[0;32m      4\u001B[0m     fifth_td \u001B[38;5;241m=\u001B[39m product_td\u001B[38;5;241m.\u001B[39mfind_next_siblings(\u001B[38;5;124m'\u001B[39m\u001B[38;5;124mtd\u001B[39m\u001B[38;5;124m'\u001B[39m)[\u001B[38;5;241m5\u001B[39m]\n\u001B[1;32m----> 5\u001B[0m \u001B[38;5;28mprint\u001B[39m(\u001B[43mfifth_td\u001B[49m)\n",
      "\u001B[1;31mNameError\u001B[0m: name 'fifth_td' is not defined"
     ]
    }
   ],
   "execution_count": 9
  },
  {
   "metadata": {},
   "cell_type": "code",
   "source": [
    "    # 在第五个td中找到所有div\n",
    "    div_tags = fifth_td.find_all('div')"
   ],
   "id": "f995433020de3769",
   "outputs": [],
   "execution_count": null
  },
  {
   "metadata": {},
   "cell_type": "code",
   "source": [
    "\n",
    "    # 遍历每个div\n",
    "    for div in div_tags:\n",
    "        # 在每个div中找到所有div\n",
    "        inner_div_tags = div.find_all('div')"
   ],
   "id": "cd03d2278423b4cc",
   "outputs": [],
   "execution_count": null
  },
  {
   "metadata": {},
   "cell_type": "code",
   "source": [
    "\n",
    "        for div1 in inner_div_tags:\n",
    "            # 在每个div1中找到所有ul\n",
    "            ul_tags = inner_div_tags.find_all('ul')"
   ],
   "id": "67576f6a73bec3ad",
   "outputs": [],
   "execution_count": null
  },
  {
   "metadata": {},
   "cell_type": "code",
   "source": [
    "\n",
    "            # 遍历每个ul\n",
    "            for ul in ul_tags:\n",
    "                # 在\n",
    "                li_tags = ul.find_all('li')"
   ],
   "id": "4d7d7e296bb4d282",
   "outputs": [],
   "execution_count": null
  },
  {
   "metadata": {},
   "cell_type": "code",
   "source": [
    "\n",
    "                for li in li_tags:\n",
    "                    a_tags = li.find_all('a', href=True)"
   ],
   "id": "51a0e0a886a8ed79",
   "outputs": [],
   "execution_count": null
  },
  {
   "metadata": {},
   "cell_type": "code",
   "source": [
    "\n",
    "                # 遍历每个a标签\n",
    "                for a in a_tags:\n",
    "                    # 打印a标签的href属性\n",
    "                    print(a['href'])\n"
   ],
   "id": "initial_id",
   "outputs": [],
   "execution_count": null
  }
 ],
 "metadata": {
  "kernelspec": {
   "display_name": "Python 3",
   "language": "python",
   "name": "python3"
  },
  "language_info": {
   "codemirror_mode": {
    "name": "ipython",
    "version": 2
   },
   "file_extension": ".py",
   "mimetype": "text/x-python",
   "name": "python",
   "nbconvert_exporter": "python",
   "pygments_lexer": "ipython2",
   "version": "2.7.6"
  }
 },
 "nbformat": 4,
 "nbformat_minor": 5
}
