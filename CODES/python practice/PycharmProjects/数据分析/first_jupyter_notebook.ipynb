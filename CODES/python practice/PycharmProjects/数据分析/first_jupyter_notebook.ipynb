{
 "cells": [
  {
   "cell_type": "code",
   "id": "9ad5746e-9b1d-40ff-8524-456272addd12",
   "metadata": {
    "ExecuteTime": {
     "end_time": "2024-08-06T03:37:59.450991Z",
     "start_time": "2024-08-06T03:37:58.630213Z"
    }
   },
   "source": [
    "import pandas as pd"
   ],
   "outputs": [],
   "execution_count": 2
  },
  {
   "cell_type": "code",
   "id": "905eb838-f1c4-46e0-bbbc-8bbd88f05706",
   "metadata": {
    "ExecuteTime": {
     "end_time": "2024-08-06T03:37:59.455719Z",
     "start_time": "2024-08-06T03:37:59.451991Z"
    }
   },
   "source": [
    "s1 = pd.Series([1, 2, 3, 4, 5] , index = [1, 2, 3, 4, 5])"
   ],
   "outputs": [],
   "execution_count": 3
  },
  {
   "cell_type": "code",
   "id": "21b26a78-4007-4c44-8b97-96524c8f2485",
   "metadata": {
    "ExecuteTime": {
     "end_time": "2024-08-06T03:37:59.469108Z",
     "start_time": "2024-08-06T03:37:59.456719Z"
    }
   },
   "source": [
    "print(s1[(s1 > 1 )&(s1 < 4)])"
   ],
   "outputs": [
    {
     "name": "stdout",
     "output_type": "stream",
     "text": [
      "2    2\n",
      "3    3\n",
      "dtype: int64\n"
     ]
    }
   ],
   "execution_count": 4
  },
  {
   "cell_type": "code",
   "id": "28f150dc-62ba-4789-9ca6-2f45af955382",
   "metadata": {
    "ExecuteTime": {
     "end_time": "2024-08-06T03:37:59.473968Z",
     "start_time": "2024-08-06T03:37:59.470109Z"
    }
   },
   "source": [
    "s2 = pd.Series([1, 2, 3, 4, 5] , index=[5, 4, 3, 2, 1])"
   ],
   "outputs": [],
   "execution_count": 5
  },
  {
   "cell_type": "code",
   "id": "58fd69ac-7731-4809-870b-d64ca210cb3e",
   "metadata": {
    "ExecuteTime": {
     "end_time": "2024-08-06T03:37:59.482559Z",
     "start_time": "2024-08-06T03:37:59.473968Z"
    }
   },
   "source": [
    "print(s2.index)\n",
    "print(s2.values)"
   ],
   "outputs": [
    {
     "name": "stdout",
     "output_type": "stream",
     "text": [
      "Index([5, 4, 3, 2, 1], dtype='int64')\n",
      "[1 2 3 4 5]\n"
     ]
    }
   ],
   "execution_count": 6
  },
  {
   "cell_type": "code",
   "id": "7b839eec-a2c8-411c-bbe2-8998e37770d0",
   "metadata": {
    "ExecuteTime": {
     "end_time": "2024-08-06T03:37:59.489025Z",
     "start_time": "2024-08-06T03:37:59.482559Z"
    }
   },
   "source": [
    "print(s2.iloc[1])"
   ],
   "outputs": [
    {
     "name": "stdout",
     "output_type": "stream",
     "text": [
      "2\n"
     ]
    }
   ],
   "execution_count": 7
  },
  {
   "cell_type": "code",
   "id": "23cba149-38eb-48dc-9bda-353b5093e839",
   "metadata": {
    "ExecuteTime": {
     "end_time": "2024-08-06T03:37:59.503027Z",
     "start_time": "2024-08-06T03:37:59.489025Z"
    }
   },
   "source": "s1.describe()",
   "outputs": [
    {
     "data": {
      "text/plain": [
       "count    5.000000\n",
       "mean     3.000000\n",
       "std      1.581139\n",
       "min      1.000000\n",
       "25%      2.000000\n",
       "50%      3.000000\n",
       "75%      4.000000\n",
       "max      5.000000\n",
       "dtype: float64"
      ]
     },
     "execution_count": 8,
     "metadata": {},
     "output_type": "execute_result"
    }
   ],
   "execution_count": 8
  },
  {
   "cell_type": "code",
   "id": "63326349-cae9-4020-b184-2c9c65171513",
   "metadata": {
    "ExecuteTime": {
     "end_time": "2024-08-06T03:37:59.513392Z",
     "start_time": "2024-08-06T03:37:59.503027Z"
    }
   },
   "source": [
    "df1 = pd.DataFrame({'first':s1 , '2nd':s2})\n",
    "df1"
   ],
   "outputs": [
    {
     "data": {
      "text/plain": [
       "   first  2nd\n",
       "1      1    5\n",
       "2      2    4\n",
       "3      3    3\n",
       "4      4    2\n",
       "5      5    1"
      ],
      "text/html": [
       "<div>\n",
       "<style scoped>\n",
       "    .dataframe tbody tr th:only-of-type {\n",
       "        vertical-align: middle;\n",
       "    }\n",
       "\n",
       "    .dataframe tbody tr th {\n",
       "        vertical-align: top;\n",
       "    }\n",
       "\n",
       "    .dataframe thead th {\n",
       "        text-align: right;\n",
       "    }\n",
       "</style>\n",
       "<table border=\"1\" class=\"dataframe\">\n",
       "  <thead>\n",
       "    <tr style=\"text-align: right;\">\n",
       "      <th></th>\n",
       "      <th>first</th>\n",
       "      <th>2nd</th>\n",
       "    </tr>\n",
       "  </thead>\n",
       "  <tbody>\n",
       "    <tr>\n",
       "      <th>1</th>\n",
       "      <td>1</td>\n",
       "      <td>5</td>\n",
       "    </tr>\n",
       "    <tr>\n",
       "      <th>2</th>\n",
       "      <td>2</td>\n",
       "      <td>4</td>\n",
       "    </tr>\n",
       "    <tr>\n",
       "      <th>3</th>\n",
       "      <td>3</td>\n",
       "      <td>3</td>\n",
       "    </tr>\n",
       "    <tr>\n",
       "      <th>4</th>\n",
       "      <td>4</td>\n",
       "      <td>2</td>\n",
       "    </tr>\n",
       "    <tr>\n",
       "      <th>5</th>\n",
       "      <td>5</td>\n",
       "      <td>1</td>\n",
       "    </tr>\n",
       "  </tbody>\n",
       "</table>\n",
       "</div>"
      ]
     },
     "execution_count": 9,
     "metadata": {},
     "output_type": "execute_result"
    }
   ],
   "execution_count": 9
  },
  {
   "cell_type": "code",
   "id": "bd07a8dc-6882-423f-992d-0fb369f08731",
   "metadata": {
    "ExecuteTime": {
     "end_time": "2024-08-06T03:37:59.519716Z",
     "start_time": "2024-08-06T03:37:59.514399Z"
    }
   },
   "source": [
    "df1.T"
   ],
   "outputs": [
    {
     "data": {
      "text/plain": [
       "       1  2  3  4  5\n",
       "first  1  2  3  4  5\n",
       "2nd    5  4  3  2  1"
      ],
      "text/html": [
       "<div>\n",
       "<style scoped>\n",
       "    .dataframe tbody tr th:only-of-type {\n",
       "        vertical-align: middle;\n",
       "    }\n",
       "\n",
       "    .dataframe tbody tr th {\n",
       "        vertical-align: top;\n",
       "    }\n",
       "\n",
       "    .dataframe thead th {\n",
       "        text-align: right;\n",
       "    }\n",
       "</style>\n",
       "<table border=\"1\" class=\"dataframe\">\n",
       "  <thead>\n",
       "    <tr style=\"text-align: right;\">\n",
       "      <th></th>\n",
       "      <th>1</th>\n",
       "      <th>2</th>\n",
       "      <th>3</th>\n",
       "      <th>4</th>\n",
       "      <th>5</th>\n",
       "    </tr>\n",
       "  </thead>\n",
       "  <tbody>\n",
       "    <tr>\n",
       "      <th>first</th>\n",
       "      <td>1</td>\n",
       "      <td>2</td>\n",
       "      <td>3</td>\n",
       "      <td>4</td>\n",
       "      <td>5</td>\n",
       "    </tr>\n",
       "    <tr>\n",
       "      <th>2nd</th>\n",
       "      <td>5</td>\n",
       "      <td>4</td>\n",
       "      <td>3</td>\n",
       "      <td>2</td>\n",
       "      <td>1</td>\n",
       "    </tr>\n",
       "  </tbody>\n",
       "</table>\n",
       "</div>"
      ]
     },
     "execution_count": 10,
     "metadata": {},
     "output_type": "execute_result"
    }
   ],
   "execution_count": 10
  },
  {
   "cell_type": "code",
   "id": "0ce0c0d4-9ea4-49af-86ee-93d229894214",
   "metadata": {
    "ExecuteTime": {
     "end_time": "2024-08-06T03:37:59.522783Z",
     "start_time": "2024-08-06T03:37:59.520723Z"
    }
   },
   "source": [],
   "outputs": [],
   "execution_count": 10
  }
 ],
 "metadata": {
  "kernelspec": {
   "display_name": "Python 3 (ipykernel)",
   "language": "python",
   "name": "python3"
  },
  "language_info": {
   "codemirror_mode": {
    "name": "ipython",
    "version": 3
   },
   "file_extension": ".py",
   "mimetype": "text/x-python",
   "name": "python",
   "nbconvert_exporter": "python",
   "pygments_lexer": "ipython3",
   "version": "3.12.4"
  }
 },
 "nbformat": 4,
 "nbformat_minor": 5
}
