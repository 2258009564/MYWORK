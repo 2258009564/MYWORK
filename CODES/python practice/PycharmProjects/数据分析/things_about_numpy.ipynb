{
 "cells": [
  {
   "cell_type": "code",
   "id": "572a5ee8ef368e29",
   "metadata": {
    "collapsed": true,
    "ExecuteTime": {
     "end_time": "2024-08-06T06:50:03.244767Z",
     "start_time": "2024-08-06T06:50:03.004005Z"
    }
   },
   "source": "import numpy as np",
   "outputs": [],
   "execution_count": 1
  },
  {
   "metadata": {},
   "cell_type": "markdown",
   "source": "创建数组",
   "id": "9ec3a5045a8602b5"
  },
  {
   "metadata": {
    "ExecuteTime": {
     "end_time": "2024-08-06T06:50:03.249062Z",
     "start_time": "2024-08-06T06:50:03.244767Z"
    }
   },
   "cell_type": "code",
   "source": [
    "arr1 = np.array([1, 3, 5])\n",
    "arr2 = np.array([[3, 5, 7], [2, 4, 6]])"
   ],
   "id": "368e122358cbd99",
   "outputs": [],
   "execution_count": 2
  },
  {
   "metadata": {},
   "cell_type": "markdown",
   "source": [
    "arr1是一维数组，arr2是二维数组\n",
    "可以简单的通过前面有几个方括号来判断"
   ],
   "id": "8d7fd1cf04a55455"
  },
  {
   "metadata": {},
   "cell_type": "markdown",
   "source": [
    "np.array([[3, 5], [2, 4, 6]])\n",
    "会报错\n",
    "因为不符合二维数组的定义"
   ],
   "id": "152aae3f2acedf76"
  },
  {
   "metadata": {
    "ExecuteTime": {
     "end_time": "2024-08-06T06:50:03.263046Z",
     "start_time": "2024-08-06T06:50:03.249062Z"
    }
   },
   "cell_type": "code",
   "source": [
    "print(arr1.ndim)\n",
    "print(arr2.ndim)  #数组的维度"
   ],
   "id": "63b5811c556ec267",
   "outputs": [
    {
     "name": "stdout",
     "output_type": "stream",
     "text": [
      "1\n",
      "2\n"
     ]
    }
   ],
   "execution_count": 3
  },
  {
   "metadata": {
    "ExecuteTime": {
     "end_time": "2024-08-06T06:50:03.281014Z",
     "start_time": "2024-08-06T06:50:03.263046Z"
    }
   },
   "cell_type": "code",
   "source": [
    "print(arr1.shape)\n",
    "print(arr2.shape)  #返回一个元组，表示各个维度的元素的个数"
   ],
   "id": "4223d496c2f30e59",
   "outputs": [
    {
     "name": "stdout",
     "output_type": "stream",
     "text": [
      "(3,)\n",
      "(2, 3)\n"
     ]
    }
   ],
   "execution_count": 4
  },
  {
   "metadata": {
    "ExecuteTime": {
     "end_time": "2024-08-06T06:50:03.296502Z",
     "start_time": "2024-08-06T06:50:03.282015Z"
    }
   },
   "cell_type": "code",
   "source": [
    "print(arr1.size)\n",
    "print(arr2.size)  #返回数组中元素的总个数"
   ],
   "id": "c20e317c6c5b214f",
   "outputs": [
    {
     "name": "stdout",
     "output_type": "stream",
     "text": [
      "3\n",
      "6\n"
     ]
    }
   ],
   "execution_count": 5
  },
  {
   "metadata": {
    "ExecuteTime": {
     "end_time": "2024-08-06T06:50:03.311080Z",
     "start_time": "2024-08-06T06:50:03.296502Z"
    }
   },
   "cell_type": "code",
   "source": [
    "print(arr1.dtype)\n",
    "print(arr2.dtype)  #返回数组元素的类型  int64 代表六十四位整数"
   ],
   "id": "a54b570033a90b13",
   "outputs": [
    {
     "name": "stdout",
     "output_type": "stream",
     "text": [
      "int64\n",
      "int64\n"
     ]
    }
   ],
   "execution_count": 6
  },
  {
   "metadata": {},
   "cell_type": "markdown",
   "source": "#其他创建数组的方法",
   "id": "eadd193d88153a8b"
  },
  {
   "metadata": {
    "ExecuteTime": {
     "end_time": "2024-08-06T06:50:03.328451Z",
     "start_time": "2024-08-06T06:50:03.311080Z"
    }
   },
   "cell_type": "code",
   "source": [
    "print(np.zeros(3))  #返回[0. 0. 0.] 长度为3的0\n",
    "print(np.ones(5))  #返回[1. 1. 1. 1. 1.] 长度为5的1"
   ],
   "id": "55bc21f598c726e2",
   "outputs": [
    {
     "name": "stdout",
     "output_type": "stream",
     "text": [
      "[0. 0. 0.]\n",
      "[1. 1. 1. 1. 1.]\n"
     ]
    }
   ],
   "execution_count": 7
  },
  {
   "metadata": {},
   "cell_type": "markdown",
   "source": "有小数点是因为类型是浮点数",
   "id": "22e136a9a7bbc211"
  },
  {
   "metadata": {
    "ExecuteTime": {
     "end_time": "2024-08-06T06:50:03.346303Z",
     "start_time": "2024-08-06T06:50:03.328451Z"
    }
   },
   "cell_type": "code",
   "source": [
    "print(np.arange(5, 10, 2))\n",
    "#可以跟range类比"
   ],
   "id": "f7fe8c4aac222865",
   "outputs": [
    {
     "name": "stdout",
     "output_type": "stream",
     "text": [
      "[5 7 9]\n"
     ]
    }
   ],
   "execution_count": 8
  },
  {
   "metadata": {},
   "cell_type": "markdown",
   "source": "链接数组",
   "id": "ef90dc628afcaf38"
  },
  {
   "metadata": {
    "ExecuteTime": {
     "end_time": "2024-08-06T06:50:03.361580Z",
     "start_time": "2024-08-06T06:50:03.346303Z"
    }
   },
   "cell_type": "code",
   "source": [
    "arr3 = np.arange(3, 10, 2)\n",
    "arr4 = np.zeros(4)\n",
    "print(arr3, arr4)\n",
    "print(np.concatenate([arr3, arr4]))"
   ],
   "id": "ce8db91409b656e7",
   "outputs": [
    {
     "name": "stdout",
     "output_type": "stream",
     "text": [
      "[3 5 7 9] [0. 0. 0. 0.]\n",
      "[3. 5. 7. 9. 0. 0. 0. 0.]\n"
     ]
    }
   ],
   "execution_count": 9
  },
  {
   "metadata": {},
   "cell_type": "markdown",
   "source": "对列表排序有两个选择",
   "id": "a94d40007bec5b9f"
  },
  {
   "metadata": {
    "ExecuteTime": {
     "end_time": "2024-08-06T06:50:03.375396Z",
     "start_time": "2024-08-06T06:50:03.361580Z"
    }
   },
   "cell_type": "code",
   "source": "list1 = [5, 2, 10]",
   "id": "4fa4c6cf57fd7402",
   "outputs": [],
   "execution_count": 10
  },
  {
   "metadata": {},
   "cell_type": "markdown",
   "source": "函数sorted() 特点是需要赋值给一个新列表 不改变原来的列表",
   "id": "465f1ee36b57b824"
  },
  {
   "metadata": {
    "ExecuteTime": {
     "end_time": "2024-08-06T06:50:03.390811Z",
     "start_time": "2024-08-06T06:50:03.375396Z"
    }
   },
   "cell_type": "code",
   "source": "list1_sorted = sorted(list1)",
   "id": "eacd596f74bc5451",
   "outputs": [],
   "execution_count": 11
  },
  {
   "metadata": {},
   "cell_type": "markdown",
   "source": "方法.sort 特点是不返回任何结果 改变原来的列表",
   "id": "654ecb936a09a2cf"
  },
  {
   "metadata": {
    "ExecuteTime": {
     "end_time": "2024-08-06T06:50:03.405717Z",
     "start_time": "2024-08-06T06:50:03.390811Z"
    }
   },
   "cell_type": "code",
   "source": "list1.sort() #此时列表已经被排序",
   "id": "3fc5ad359bed34bf",
   "outputs": [],
   "execution_count": 12
  },
  {
   "metadata": {},
   "cell_type": "markdown",
   "source": "与之类似的，numpy库也有这两个选择",
   "id": "5b102fbc1a3c9514"
  },
  {
   "metadata": {
    "ExecuteTime": {
     "end_time": "2024-08-06T06:50:03.423454Z",
     "start_time": "2024-08-06T06:50:03.405717Z"
    }
   },
   "cell_type": "code",
   "source": [
    "arr5 = np.array([5, 3, 9, 4])\n",
    "arr5_sorted = np.sort(arr5)  #函数"
   ],
   "id": "bb568c2c25d2f4f9",
   "outputs": [],
   "execution_count": null
  },
  {
   "metadata": {
    "ExecuteTime": {
     "end_time": "2024-08-06T06:50:53.445402Z",
     "start_time": "2024-08-06T06:50:53.434349Z"
    }
   },
   "cell_type": "code",
   "source": "arr5_sorted",
   "id": "56dfda2b1e50fc29",
   "outputs": [
    {
     "data": {
      "text/plain": [
       "array([3, 4, 5, 9])"
      ]
     },
     "execution_count": 14,
     "metadata": {},
     "output_type": "execute_result"
    }
   ],
   "execution_count": 14
  },
  {
   "metadata": {
    "ExecuteTime": {
     "end_time": "2024-08-06T06:50:58.985773Z",
     "start_time": "2024-08-06T06:50:58.982487Z"
    }
   },
   "cell_type": "code",
   "source": "arr5.sort()  #方法",
   "id": "initial_id",
   "outputs": [],
   "execution_count": 15
  },
  {
   "metadata": {
    "ExecuteTime": {
     "end_time": "2024-08-06T06:51:05.856564Z",
     "start_time": "2024-08-06T06:51:05.852708Z"
    }
   },
   "cell_type": "code",
   "source": "arr5",
   "id": "414c83c0ca48abd0",
   "outputs": [
    {
     "data": {
      "text/plain": [
       "array([3, 4, 5, 9])"
      ]
     },
     "execution_count": 16,
     "metadata": {},
     "output_type": "execute_result"
    }
   ],
   "execution_count": 16
  },
  {
   "metadata": {},
   "cell_type": "code",
   "outputs": [],
   "execution_count": null,
   "source": "",
   "id": "b53ed4e8e23d1f6a"
  }
 ],
 "metadata": {
  "kernelspec": {
   "display_name": "Python 3",
   "language": "python",
   "name": "python3"
  },
  "language_info": {
   "codemirror_mode": {
    "name": "ipython",
    "version": 2
   },
   "file_extension": ".py",
   "mimetype": "text/x-python",
   "name": "python",
   "nbconvert_exporter": "python",
   "pygments_lexer": "ipython2",
   "version": "2.7.6"
  }
 },
 "nbformat": 4,
 "nbformat_minor": 5
}
