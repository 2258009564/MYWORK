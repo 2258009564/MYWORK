{
 "cells": [
  {
   "cell_type": "markdown",
   "id": "952b08cf393bad96",
   "metadata": {},
   "source": [
    "爬虫的基本原理"
   ]
  },
  {
   "cell_type": "markdown",
   "id": "cdda5c95dea4d7ac",
   "metadata": {},
   "source": [
    "种子 URL：爬虫从一个或多个种子 URL 开始，这些 URL 是起点。"
   ]
  },
  {
   "cell_type": "markdown",
   "id": "2a8fb1797759c8b3",
   "metadata": {},
   "source": [
    "发送请求：爬虫向这些种子 URL 发送 HTTP 请求，通常是 GET 请求。"
   ]
  },
  {
   "cell_type": "markdown",
   "id": "6781f6aef0e6f4c6",
   "metadata": {},
   "source": [
    "获取响应：服务器返回网页的 HTML 内容作为响应。"
   ]
  },
  {
   "cell_type": "markdown",
   "id": "a8bde0fffd93b7e9",
   "metadata": {},
   "source": [
    "解析内容：爬虫解析 HTML 内容，提取所需的数据（如文本、链接、图片等）。"
   ]
  },
  {
   "cell_type": "markdown",
   "id": "f426f0951cc7ed05",
   "metadata": {},
   "source": [
    "提取链接：从网页中提取出所有链接，并将这些链接加入待访问队列。"
   ]
  },
  {
   "cell_type": "markdown",
   "id": "2133afb234ff3ce",
   "metadata": {},
   "source": [
    "重复过程：爬虫重复上述步骤，直到达到某个停止条件，如爬取了一定数量的页面，或所有页面都被爬取完毕。\n"
   ]
  },
  {
   "cell_type": "code",
   "execution_count": 8,
   "id": "7be328f8ea027ac7",
   "metadata": {
    "ExecuteTime": {
     "end_time": "2024-08-06T16:12:59.974615Z",
     "start_time": "2024-08-06T16:12:59.967140Z"
    }
   },
   "outputs": [],
   "source": [
    "import re"
   ]
  },
  {
   "cell_type": "markdown",
   "id": "2e16ac34c803c8c2",
   "metadata": {},
   "source": [
    "请求网址"
   ]
  },
  {
   "cell_type": "code",
   "execution_count": 9,
   "id": "b5c0899a51d0a754",
   "metadata": {
    "ExecuteTime": {
     "end_time": "2024-08-06T16:12:59.991994Z",
     "start_time": "2024-08-06T16:12:59.979625Z"
    }
   },
   "outputs": [
    {
     "data": {
      "text/plain": [
       "'https://music.163.com'"
      ]
     },
     "execution_count": 9,
     "metadata": {},
     "output_type": "execute_result"
    }
   ],
   "source": [
    "url = 'https://music.163.com'\n",
    "url"
   ]
  },
  {
   "cell_type": "markdown",
   "id": "209406e3b0e48e92",
   "metadata": {},
   "source": [
    "搜索请求方法：get"
   ]
  },
  {
   "cell_type": "markdown",
   "id": "9feaab70f04ab8ae",
   "metadata": {},
   "source": [
    "伪造请求头"
   ]
  },
  {
   "cell_type": "code",
   "execution_count": 10,
   "id": "b0697649eae3df46",
   "metadata": {
    "ExecuteTime": {
     "end_time": "2024-08-06T16:13:00.010478Z",
     "start_time": "2024-08-06T16:12:59.992994Z"
    }
   },
   "outputs": [],
   "source": [
    "head = {\n",
    "    'User_Agent' :'Mozilla/5.0 (Windows NT 10.0; Win64; x64) AppleWebKit/537.36 (KHTML, like Gecko) Chrome/126.0.0.0 Safari/537.36 Edg/126.0.0.0'\n",
    "}"
   ]
  },
  {
   "cell_type": "markdown",
   "id": "67dc52094f79dfcb",
   "metadata": {},
   "source": [
    "发送请求"
   ]
  },
  {
   "cell_type": "code",
   "execution_count": 11,
   "id": "fd7fc413b27efbb9",
   "metadata": {
    "ExecuteTime": {
     "end_time": "2024-08-06T16:13:00.271189Z",
     "start_time": "2024-08-06T16:13:00.010478Z"
    }
   },
   "outputs": [
    {
     "data": {
      "text/plain": [
       "<Response [200]>"
      ]
     },
     "execution_count": 11,
     "metadata": {},
     "output_type": "execute_result"
    }
   ],
   "source": [
    "response = requests.get(url,headers=head)\n",
    "response"
   ]
  },
  {
   "cell_type": "markdown",
   "id": "5f7f372ee788ef02",
   "metadata": {},
   "source": [
    "查看响应内容"
   ]
  },
  {
   "cell_type": "code",
   "execution_count": 12,
   "id": "55bd2c9ea6e39e2c",
   "metadata": {
    "ExecuteTime": {
     "end_time": "2024-08-06T16:13:00.282846Z",
     "start_time": "2024-08-06T16:13:00.272192Z"
    }
   },
   "outputs": [
    {
     "ename": "TypeError",
     "evalue": "findall() missing 1 required positional argument: 'string'",
     "output_type": "error",
     "traceback": [
      "\u001b[1;31m---------------------------------------------------------------------------\u001b[0m",
      "\u001b[1;31mTypeError\u001b[0m                                 Traceback (most recent call last)",
      "Cell \u001b[1;32mIn[12], line 1\u001b[0m\n\u001b[1;32m----> 1\u001b[0m html_data \u001b[38;5;241m=\u001b[39m \u001b[43mre\u001b[49m\u001b[38;5;241;43m.\u001b[39;49m\u001b[43mfindall\u001b[49m\u001b[43m(\u001b[49m\u001b[38;5;124;43mr\u001b[39;49m\u001b[38;5;124;43m'\u001b[39;49m\u001b[38;5;124;43m'\u001b[39;49m\u001b[43m)\u001b[49m\n",
      "\u001b[1;31mTypeError\u001b[0m: findall() missing 1 required positional argument: 'string'"
     ]
    }
   ],
   "source": [
    "html_data = re.findall(r'')"
   ]
  }
 ],
 "metadata": {
  "kernelspec": {
   "display_name": "Python 3",
   "language": "python",
   "name": "python3"
  },
  "language_info": {
   "codemirror_mode": {
    "name": "ipython",
    "version": 2
   },
   "file_extension": ".py",
   "mimetype": "text/x-python",
   "name": "python",
   "nbconvert_exporter": "python",
   "pygments_lexer": "ipython2",
   "version": "2.7.6"
  }
 },
 "nbformat": 4,
 "nbformat_minor": 5
}
